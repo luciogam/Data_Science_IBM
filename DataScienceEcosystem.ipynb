{
 "cells": [
  {
   "cell_type": "markdown",
   "id": "962ff043-7a19-47a2-b43e-8a0210641060",
   "metadata": {},
   "source": [
    "# Data Science Tools and Ecosystem"
   ]
  },
  {
   "cell_type": "markdown",
   "id": "272b54f8-59fc-41c5-9a57-ab1effe577d3",
   "metadata": {},
   "source": [
    "In this notebook, Data Science Tools and Ecosystem are summarized."
   ]
  },
  {
   "cell_type": "markdown",
   "id": "625c84e3-8f3e-4457-8e1b-d412145810f7",
   "metadata": {},
   "source": [
    "<b>Objectives:<b>\n",
    "* List popular languages used in Data Science\n",
    "* List commonly used libraries used in Data Science\n",
    "* List Data Science Tools"
   ]
  },
  {
   "cell_type": "markdown",
   "id": "f5aa1f0b-0a83-4fe3-86b5-ee58b93d1d37",
   "metadata": {},
   "source": [
    "Some of the popular languages that Data Scientists use are:\n",
    "1. Python\n",
    "2. R\n",
    "3. Git"
   ]
  },
  {
   "cell_type": "markdown",
   "id": "27738389-54f4-4d25-b9e8-01a3cbcccbc2",
   "metadata": {},
   "source": [
    "Some of the commonly used libraries used by Data Scientists include:\n",
    "1. Pandas\n",
    "2. Numpy\n",
    "3. Matplotlib"
   ]
  },
  {
   "cell_type": "markdown",
   "id": "208f5253-b565-40e8-9fb5-483dbcbaedbf",
   "metadata": {},
   "source": [
    "|Data Science Tools|\n",
    "|-|\n",
    "|Jupyter Lab|\n",
    "|-|\n",
    "|GitHub|\n",
    "|-|\n",
    "|RStudio|\n",
    "------"
   ]
  },
  {
   "cell_type": "markdown",
   "id": "e25d69e4-9d93-4c0d-b92e-12d54828ecdf",
   "metadata": {},
   "source": [
    "### Below are a few examples of evaluating arithmetic expressions in Python:"
   ]
  },
  {
   "cell_type": "code",
   "execution_count": 2,
   "id": "a1b8d6f1-7b2e-4c5b-943c-298910b4c507",
   "metadata": {},
   "outputs": [
    {
     "name": "stdout",
     "output_type": "stream",
     "text": [
      "17\n"
     ]
    },
    {
     "data": {
      "text/plain": [
       "'This a simple arithmetic expression to mutiply then add integers'"
      ]
     },
     "execution_count": 2,
     "metadata": {},
     "output_type": "execute_result"
    }
   ],
   "source": [
    "\"This a simple arithmetic expression to mutiply then add integers\"\n",
    "print((3*4)+5)"
   ]
  },
  {
   "cell_type": "code",
   "execution_count": 8,
   "id": "8fc61ec5-4b3d-41c7-a2e9-23cdeed131af",
   "metadata": {},
   "outputs": [
    {
     "name": "stdout",
     "output_type": "stream",
     "text": [
      "3.3333333333333335\n"
     ]
    },
    {
     "data": {
      "text/plain": [
       "'This will convert 200 minutes to hours by diving by 60'"
      ]
     },
     "execution_count": 8,
     "metadata": {},
     "output_type": "execute_result"
    }
   ],
   "source": [
    "\"This will convert 200 minutes to hours by diving by 60\"\n",
    "x = 200/60\n",
    "print (x)"
   ]
  },
  {
   "cell_type": "markdown",
   "id": "fc844bf7-146a-4021-aa21-c3c73e1923bf",
   "metadata": {},
   "source": [
    "## AUTHOR: \n",
    "Lúcio Gurgel do Amaral Mota"
   ]
  },
  {
   "cell_type": "code",
   "execution_count": null,
   "id": "6d214049-6fb1-4447-a4f5-cc64cafdf8c4",
   "metadata": {},
   "outputs": [],
   "source": []
  }
 ],
 "metadata": {
  "kernelspec": {
   "display_name": "anaconda-panel-2023.05-py310",
   "language": "python",
   "name": "conda-env-anaconda-panel-2023.05-py310-py"
  },
  "language_info": {
   "codemirror_mode": {
    "name": "ipython",
    "version": 3
   },
   "file_extension": ".py",
   "mimetype": "text/x-python",
   "name": "python",
   "nbconvert_exporter": "python",
   "pygments_lexer": "ipython3",
   "version": "3.11.4"
  }
 },
 "nbformat": 4,
 "nbformat_minor": 5
}
